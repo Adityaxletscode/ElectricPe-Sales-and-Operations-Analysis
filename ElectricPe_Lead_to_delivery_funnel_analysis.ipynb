{
  "nbformat": 4,
  "nbformat_minor": 0,
  "metadata": {
    "colab": {
      "provenance": []
    },
    "kernelspec": {
      "name": "python3",
      "display_name": "Python 3"
    },
    "language_info": {
      "name": "python"
    }
  },
  "cells": [
    {
      "cell_type": "code",
      "execution_count": null,
      "metadata": {
        "id": "doegwABEtUXd"
      },
      "outputs": [],
      "source": [
        "import pandas as pd"
      ]
    },
    {
      "cell_type": "code",
      "source": [
        "df = pd.read_csv('/content/electricPe.csv')"
      ],
      "metadata": {
        "id": "qlXeoXGxtgGN"
      },
      "execution_count": null,
      "outputs": []
    },
    {
      "cell_type": "code",
      "source": [
        "print(df.shape)"
      ],
      "metadata": {
        "colab": {
          "base_uri": "https://localhost:8080/"
        },
        "id": "P1g8vp0qtli2",
        "outputId": "88494030-b21d-4e36-b860-c8117f9151db"
      },
      "execution_count": null,
      "outputs": [
        {
          "output_type": "stream",
          "name": "stdout",
          "text": [
            "(1000, 14)\n"
          ]
        }
      ]
    },
    {
      "cell_type": "code",
      "source": [
        "df.head()"
      ],
      "metadata": {
        "colab": {
          "base_uri": "https://localhost:8080/",
          "height": 365
        },
        "id": "6wuHwt5mtoDZ",
        "outputId": "9bf6a72f-6007-40fb-a0c8-d72c516edaf7"
      },
      "execution_count": null,
      "outputs": [
        {
          "output_type": "execute_result",
          "data": {
            "text/plain": [
              "  Lead ID     Store Name Lead Type   Lead Date Pre-Booking Date Booking Date  \\\n",
              "0   L1000  Bangalore MBC      Warm  2025-10-21       2025-10-25   2025-10-29   \n",
              "1   L1001      Delhi MBC      Warm  2025-10-11       2025-10-14   2025-10-19   \n",
              "2   L1002     Mumbai MBC      Cold  2025-10-01              NaN          NaN   \n",
              "3   L1003  Bangalore MBC      Cold  2025-10-28              NaN          NaN   \n",
              "4   L1004      Delhi MBC      Warm  2025-10-14       2025-10-18   2025-10-21   \n",
              "\n",
              "  Delivery Date Cancellation Status Cancellation Reason  \\\n",
              "0    2025-11-03                  No                 NaN   \n",
              "1    2025-10-26                  No                 NaN   \n",
              "2           NaN                 Yes               Other   \n",
              "3           NaN                 Yes   Model Unavailable   \n",
              "4    2025-10-24                  No                 NaN   \n",
              "\n",
              "  Service Follow-up Date  TAT Pre-Booking (Days)  TAT Booking (Days)  \\\n",
              "0             2025-11-28                     4.0                 4.0   \n",
              "1             2025-11-22                     3.0                 5.0   \n",
              "2                    NaN                     NaN                 NaN   \n",
              "3                    NaN                     NaN                 NaN   \n",
              "4             2025-11-12                     4.0                 3.0   \n",
              "\n",
              "   TAT Delivery (Days)  Customer Rating  \n",
              "0                  5.0              2.0  \n",
              "1                  7.0              8.0  \n",
              "2                  NaN              NaN  \n",
              "3                  NaN              NaN  \n",
              "4                  3.0              8.0  "
            ],
            "text/html": [
              "\n",
              "  <div id=\"df-71eb0691-75a2-4f27-80ba-ead2bb0da615\" class=\"colab-df-container\">\n",
              "    <div>\n",
              "<style scoped>\n",
              "    .dataframe tbody tr th:only-of-type {\n",
              "        vertical-align: middle;\n",
              "    }\n",
              "\n",
              "    .dataframe tbody tr th {\n",
              "        vertical-align: top;\n",
              "    }\n",
              "\n",
              "    .dataframe thead th {\n",
              "        text-align: right;\n",
              "    }\n",
              "</style>\n",
              "<table border=\"1\" class=\"dataframe\">\n",
              "  <thead>\n",
              "    <tr style=\"text-align: right;\">\n",
              "      <th></th>\n",
              "      <th>Lead ID</th>\n",
              "      <th>Store Name</th>\n",
              "      <th>Lead Type</th>\n",
              "      <th>Lead Date</th>\n",
              "      <th>Pre-Booking Date</th>\n",
              "      <th>Booking Date</th>\n",
              "      <th>Delivery Date</th>\n",
              "      <th>Cancellation Status</th>\n",
              "      <th>Cancellation Reason</th>\n",
              "      <th>Service Follow-up Date</th>\n",
              "      <th>TAT Pre-Booking (Days)</th>\n",
              "      <th>TAT Booking (Days)</th>\n",
              "      <th>TAT Delivery (Days)</th>\n",
              "      <th>Customer Rating</th>\n",
              "    </tr>\n",
              "  </thead>\n",
              "  <tbody>\n",
              "    <tr>\n",
              "      <th>0</th>\n",
              "      <td>L1000</td>\n",
              "      <td>Bangalore MBC</td>\n",
              "      <td>Warm</td>\n",
              "      <td>2025-10-21</td>\n",
              "      <td>2025-10-25</td>\n",
              "      <td>2025-10-29</td>\n",
              "      <td>2025-11-03</td>\n",
              "      <td>No</td>\n",
              "      <td>NaN</td>\n",
              "      <td>2025-11-28</td>\n",
              "      <td>4.0</td>\n",
              "      <td>4.0</td>\n",
              "      <td>5.0</td>\n",
              "      <td>2.0</td>\n",
              "    </tr>\n",
              "    <tr>\n",
              "      <th>1</th>\n",
              "      <td>L1001</td>\n",
              "      <td>Delhi MBC</td>\n",
              "      <td>Warm</td>\n",
              "      <td>2025-10-11</td>\n",
              "      <td>2025-10-14</td>\n",
              "      <td>2025-10-19</td>\n",
              "      <td>2025-10-26</td>\n",
              "      <td>No</td>\n",
              "      <td>NaN</td>\n",
              "      <td>2025-11-22</td>\n",
              "      <td>3.0</td>\n",
              "      <td>5.0</td>\n",
              "      <td>7.0</td>\n",
              "      <td>8.0</td>\n",
              "    </tr>\n",
              "    <tr>\n",
              "      <th>2</th>\n",
              "      <td>L1002</td>\n",
              "      <td>Mumbai MBC</td>\n",
              "      <td>Cold</td>\n",
              "      <td>2025-10-01</td>\n",
              "      <td>NaN</td>\n",
              "      <td>NaN</td>\n",
              "      <td>NaN</td>\n",
              "      <td>Yes</td>\n",
              "      <td>Other</td>\n",
              "      <td>NaN</td>\n",
              "      <td>NaN</td>\n",
              "      <td>NaN</td>\n",
              "      <td>NaN</td>\n",
              "      <td>NaN</td>\n",
              "    </tr>\n",
              "    <tr>\n",
              "      <th>3</th>\n",
              "      <td>L1003</td>\n",
              "      <td>Bangalore MBC</td>\n",
              "      <td>Cold</td>\n",
              "      <td>2025-10-28</td>\n",
              "      <td>NaN</td>\n",
              "      <td>NaN</td>\n",
              "      <td>NaN</td>\n",
              "      <td>Yes</td>\n",
              "      <td>Model Unavailable</td>\n",
              "      <td>NaN</td>\n",
              "      <td>NaN</td>\n",
              "      <td>NaN</td>\n",
              "      <td>NaN</td>\n",
              "      <td>NaN</td>\n",
              "    </tr>\n",
              "    <tr>\n",
              "      <th>4</th>\n",
              "      <td>L1004</td>\n",
              "      <td>Delhi MBC</td>\n",
              "      <td>Warm</td>\n",
              "      <td>2025-10-14</td>\n",
              "      <td>2025-10-18</td>\n",
              "      <td>2025-10-21</td>\n",
              "      <td>2025-10-24</td>\n",
              "      <td>No</td>\n",
              "      <td>NaN</td>\n",
              "      <td>2025-11-12</td>\n",
              "      <td>4.0</td>\n",
              "      <td>3.0</td>\n",
              "      <td>3.0</td>\n",
              "      <td>8.0</td>\n",
              "    </tr>\n",
              "  </tbody>\n",
              "</table>\n",
              "</div>\n",
              "    <div class=\"colab-df-buttons\">\n",
              "\n",
              "  <div class=\"colab-df-container\">\n",
              "    <button class=\"colab-df-convert\" onclick=\"convertToInteractive('df-71eb0691-75a2-4f27-80ba-ead2bb0da615')\"\n",
              "            title=\"Convert this dataframe to an interactive table.\"\n",
              "            style=\"display:none;\">\n",
              "\n",
              "  <svg xmlns=\"http://www.w3.org/2000/svg\" height=\"24px\" viewBox=\"0 -960 960 960\">\n",
              "    <path d=\"M120-120v-720h720v720H120Zm60-500h600v-160H180v160Zm220 220h160v-160H400v160Zm0 220h160v-160H400v160ZM180-400h160v-160H180v160Zm440 0h160v-160H620v160ZM180-180h160v-160H180v160Zm440 0h160v-160H620v160Z\"/>\n",
              "  </svg>\n",
              "    </button>\n",
              "\n",
              "  <style>\n",
              "    .colab-df-container {\n",
              "      display:flex;\n",
              "      gap: 12px;\n",
              "    }\n",
              "\n",
              "    .colab-df-convert {\n",
              "      background-color: #E8F0FE;\n",
              "      border: none;\n",
              "      border-radius: 50%;\n",
              "      cursor: pointer;\n",
              "      display: none;\n",
              "      fill: #1967D2;\n",
              "      height: 32px;\n",
              "      padding: 0 0 0 0;\n",
              "      width: 32px;\n",
              "    }\n",
              "\n",
              "    .colab-df-convert:hover {\n",
              "      background-color: #E2EBFA;\n",
              "      box-shadow: 0px 1px 2px rgba(60, 64, 67, 0.3), 0px 1px 3px 1px rgba(60, 64, 67, 0.15);\n",
              "      fill: #174EA6;\n",
              "    }\n",
              "\n",
              "    .colab-df-buttons div {\n",
              "      margin-bottom: 4px;\n",
              "    }\n",
              "\n",
              "    [theme=dark] .colab-df-convert {\n",
              "      background-color: #3B4455;\n",
              "      fill: #D2E3FC;\n",
              "    }\n",
              "\n",
              "    [theme=dark] .colab-df-convert:hover {\n",
              "      background-color: #434B5C;\n",
              "      box-shadow: 0px 1px 3px 1px rgba(0, 0, 0, 0.15);\n",
              "      filter: drop-shadow(0px 1px 2px rgba(0, 0, 0, 0.3));\n",
              "      fill: #FFFFFF;\n",
              "    }\n",
              "  </style>\n",
              "\n",
              "    <script>\n",
              "      const buttonEl =\n",
              "        document.querySelector('#df-71eb0691-75a2-4f27-80ba-ead2bb0da615 button.colab-df-convert');\n",
              "      buttonEl.style.display =\n",
              "        google.colab.kernel.accessAllowed ? 'block' : 'none';\n",
              "\n",
              "      async function convertToInteractive(key) {\n",
              "        const element = document.querySelector('#df-71eb0691-75a2-4f27-80ba-ead2bb0da615');\n",
              "        const dataTable =\n",
              "          await google.colab.kernel.invokeFunction('convertToInteractive',\n",
              "                                                    [key], {});\n",
              "        if (!dataTable) return;\n",
              "\n",
              "        const docLinkHtml = 'Like what you see? Visit the ' +\n",
              "          '<a target=\"_blank\" href=https://colab.research.google.com/notebooks/data_table.ipynb>data table notebook</a>'\n",
              "          + ' to learn more about interactive tables.';\n",
              "        element.innerHTML = '';\n",
              "        dataTable['output_type'] = 'display_data';\n",
              "        await google.colab.output.renderOutput(dataTable, element);\n",
              "        const docLink = document.createElement('div');\n",
              "        docLink.innerHTML = docLinkHtml;\n",
              "        element.appendChild(docLink);\n",
              "      }\n",
              "    </script>\n",
              "  </div>\n",
              "\n",
              "\n",
              "    <div id=\"df-eeb7d848-f28c-4739-ad98-4ccde5326876\">\n",
              "      <button class=\"colab-df-quickchart\" onclick=\"quickchart('df-eeb7d848-f28c-4739-ad98-4ccde5326876')\"\n",
              "                title=\"Suggest charts\"\n",
              "                style=\"display:none;\">\n",
              "\n",
              "<svg xmlns=\"http://www.w3.org/2000/svg\" height=\"24px\"viewBox=\"0 0 24 24\"\n",
              "     width=\"24px\">\n",
              "    <g>\n",
              "        <path d=\"M19 3H5c-1.1 0-2 .9-2 2v14c0 1.1.9 2 2 2h14c1.1 0 2-.9 2-2V5c0-1.1-.9-2-2-2zM9 17H7v-7h2v7zm4 0h-2V7h2v10zm4 0h-2v-4h2v4z\"/>\n",
              "    </g>\n",
              "</svg>\n",
              "      </button>\n",
              "\n",
              "<style>\n",
              "  .colab-df-quickchart {\n",
              "      --bg-color: #E8F0FE;\n",
              "      --fill-color: #1967D2;\n",
              "      --hover-bg-color: #E2EBFA;\n",
              "      --hover-fill-color: #174EA6;\n",
              "      --disabled-fill-color: #AAA;\n",
              "      --disabled-bg-color: #DDD;\n",
              "  }\n",
              "\n",
              "  [theme=dark] .colab-df-quickchart {\n",
              "      --bg-color: #3B4455;\n",
              "      --fill-color: #D2E3FC;\n",
              "      --hover-bg-color: #434B5C;\n",
              "      --hover-fill-color: #FFFFFF;\n",
              "      --disabled-bg-color: #3B4455;\n",
              "      --disabled-fill-color: #666;\n",
              "  }\n",
              "\n",
              "  .colab-df-quickchart {\n",
              "    background-color: var(--bg-color);\n",
              "    border: none;\n",
              "    border-radius: 50%;\n",
              "    cursor: pointer;\n",
              "    display: none;\n",
              "    fill: var(--fill-color);\n",
              "    height: 32px;\n",
              "    padding: 0;\n",
              "    width: 32px;\n",
              "  }\n",
              "\n",
              "  .colab-df-quickchart:hover {\n",
              "    background-color: var(--hover-bg-color);\n",
              "    box-shadow: 0 1px 2px rgba(60, 64, 67, 0.3), 0 1px 3px 1px rgba(60, 64, 67, 0.15);\n",
              "    fill: var(--button-hover-fill-color);\n",
              "  }\n",
              "\n",
              "  .colab-df-quickchart-complete:disabled,\n",
              "  .colab-df-quickchart-complete:disabled:hover {\n",
              "    background-color: var(--disabled-bg-color);\n",
              "    fill: var(--disabled-fill-color);\n",
              "    box-shadow: none;\n",
              "  }\n",
              "\n",
              "  .colab-df-spinner {\n",
              "    border: 2px solid var(--fill-color);\n",
              "    border-color: transparent;\n",
              "    border-bottom-color: var(--fill-color);\n",
              "    animation:\n",
              "      spin 1s steps(1) infinite;\n",
              "  }\n",
              "\n",
              "  @keyframes spin {\n",
              "    0% {\n",
              "      border-color: transparent;\n",
              "      border-bottom-color: var(--fill-color);\n",
              "      border-left-color: var(--fill-color);\n",
              "    }\n",
              "    20% {\n",
              "      border-color: transparent;\n",
              "      border-left-color: var(--fill-color);\n",
              "      border-top-color: var(--fill-color);\n",
              "    }\n",
              "    30% {\n",
              "      border-color: transparent;\n",
              "      border-left-color: var(--fill-color);\n",
              "      border-top-color: var(--fill-color);\n",
              "      border-right-color: var(--fill-color);\n",
              "    }\n",
              "    40% {\n",
              "      border-color: transparent;\n",
              "      border-right-color: var(--fill-color);\n",
              "      border-top-color: var(--fill-color);\n",
              "    }\n",
              "    60% {\n",
              "      border-color: transparent;\n",
              "      border-right-color: var(--fill-color);\n",
              "    }\n",
              "    80% {\n",
              "      border-color: transparent;\n",
              "      border-right-color: var(--fill-color);\n",
              "      border-bottom-color: var(--fill-color);\n",
              "    }\n",
              "    90% {\n",
              "      border-color: transparent;\n",
              "      border-bottom-color: var(--fill-color);\n",
              "    }\n",
              "  }\n",
              "</style>\n",
              "\n",
              "      <script>\n",
              "        async function quickchart(key) {\n",
              "          const quickchartButtonEl =\n",
              "            document.querySelector('#' + key + ' button');\n",
              "          quickchartButtonEl.disabled = true;  // To prevent multiple clicks.\n",
              "          quickchartButtonEl.classList.add('colab-df-spinner');\n",
              "          try {\n",
              "            const charts = await google.colab.kernel.invokeFunction(\n",
              "                'suggestCharts', [key], {});\n",
              "          } catch (error) {\n",
              "            console.error('Error during call to suggestCharts:', error);\n",
              "          }\n",
              "          quickchartButtonEl.classList.remove('colab-df-spinner');\n",
              "          quickchartButtonEl.classList.add('colab-df-quickchart-complete');\n",
              "        }\n",
              "        (() => {\n",
              "          let quickchartButtonEl =\n",
              "            document.querySelector('#df-eeb7d848-f28c-4739-ad98-4ccde5326876 button');\n",
              "          quickchartButtonEl.style.display =\n",
              "            google.colab.kernel.accessAllowed ? 'block' : 'none';\n",
              "        })();\n",
              "      </script>\n",
              "    </div>\n",
              "\n",
              "    </div>\n",
              "  </div>\n"
            ],
            "application/vnd.google.colaboratory.intrinsic+json": {
              "type": "dataframe",
              "variable_name": "df",
              "summary": "{\n  \"name\": \"df\",\n  \"rows\": 1000,\n  \"fields\": [\n    {\n      \"column\": \"Lead ID\",\n      \"properties\": {\n        \"dtype\": \"string\",\n        \"num_unique_values\": 1000,\n        \"samples\": [\n          \"L1521\",\n          \"L1737\",\n          \"L1740\"\n        ],\n        \"semantic_type\": \"\",\n        \"description\": \"\"\n      }\n    },\n    {\n      \"column\": \"Store Name\",\n      \"properties\": {\n        \"dtype\": \"category\",\n        \"num_unique_values\": 4,\n        \"samples\": [\n          \"Delhi MBC\",\n          \"Chennai MBC\",\n          \"Bangalore MBC\"\n        ],\n        \"semantic_type\": \"\",\n        \"description\": \"\"\n      }\n    },\n    {\n      \"column\": \"Lead Type\",\n      \"properties\": {\n        \"dtype\": \"category\",\n        \"num_unique_values\": 3,\n        \"samples\": [\n          \"Warm\",\n          \"Cold\",\n          \"Hot\"\n        ],\n        \"semantic_type\": \"\",\n        \"description\": \"\"\n      }\n    },\n    {\n      \"column\": \"Lead Date\",\n      \"properties\": {\n        \"dtype\": \"object\",\n        \"num_unique_values\": 31,\n        \"samples\": [\n          \"2025-10-13\",\n          \"2025-10-24\",\n          \"2025-10-19\"\n        ],\n        \"semantic_type\": \"\",\n        \"description\": \"\"\n      }\n    },\n    {\n      \"column\": \"Pre-Booking Date\",\n      \"properties\": {\n        \"dtype\": \"object\",\n        \"num_unique_values\": 35,\n        \"samples\": [\n          \"2025-10-09\",\n          \"2025-10-15\",\n          \"2025-10-26\"\n        ],\n        \"semantic_type\": \"\",\n        \"description\": \"\"\n      }\n    },\n    {\n      \"column\": \"Booking Date\",\n      \"properties\": {\n        \"dtype\": \"object\",\n        \"num_unique_values\": 39,\n        \"samples\": [\n          \"2025-10-04\",\n          \"2025-10-09\",\n          \"2025-10-08\"\n        ],\n        \"semantic_type\": \"\",\n        \"description\": \"\"\n      }\n    },\n    {\n      \"column\": \"Delivery Date\",\n      \"properties\": {\n        \"dtype\": \"object\",\n        \"num_unique_values\": 43,\n        \"samples\": [\n          \"2025-10-13\",\n          \"2025-10-14\",\n          \"2025-11-02\"\n        ],\n        \"semantic_type\": \"\",\n        \"description\": \"\"\n      }\n    },\n    {\n      \"column\": \"Cancellation Status\",\n      \"properties\": {\n        \"dtype\": \"category\",\n        \"num_unique_values\": 2,\n        \"samples\": [\n          \"Yes\",\n          \"No\"\n        ],\n        \"semantic_type\": \"\",\n        \"description\": \"\"\n      }\n    },\n    {\n      \"column\": \"Cancellation Reason\",\n      \"properties\": {\n        \"dtype\": \"category\",\n        \"num_unique_values\": 5,\n        \"samples\": [\n          \"Model Unavailable\",\n          \"Price\"\n        ],\n        \"semantic_type\": \"\",\n        \"description\": \"\"\n      }\n    },\n    {\n      \"column\": \"Service Follow-up Date\",\n      \"properties\": {\n        \"dtype\": \"object\",\n        \"num_unique_values\": 56,\n        \"samples\": [\n          \"2025-11-28\",\n          \"2025-11-30\"\n        ],\n        \"semantic_type\": \"\",\n        \"description\": \"\"\n      }\n    },\n    {\n      \"column\": \"TAT Pre-Booking (Days)\",\n      \"properties\": {\n        \"dtype\": \"number\",\n        \"std\": 1.4073435885173493,\n        \"min\": 1.0,\n        \"max\": 5.0,\n        \"num_unique_values\": 5,\n        \"samples\": [\n          3.0,\n          5.0\n        ],\n        \"semantic_type\": \"\",\n        \"description\": \"\"\n      }\n    },\n    {\n      \"column\": \"TAT Booking (Days)\",\n      \"properties\": {\n        \"dtype\": \"number\",\n        \"std\": 1.4028937554456606,\n        \"min\": 1.0,\n        \"max\": 5.0,\n        \"num_unique_values\": 5,\n        \"samples\": [\n          5.0,\n          2.0\n        ],\n        \"semantic_type\": \"\",\n        \"description\": \"\"\n      }\n    },\n    {\n      \"column\": \"TAT Delivery (Days)\",\n      \"properties\": {\n        \"dtype\": \"number\",\n        \"std\": 1.7293760516805425,\n        \"min\": 2.0,\n        \"max\": 7.0,\n        \"num_unique_values\": 6,\n        \"samples\": [\n          5.0,\n          7.0\n        ],\n        \"semantic_type\": \"\",\n        \"description\": \"\"\n      }\n    },\n    {\n      \"column\": \"Customer Rating\",\n      \"properties\": {\n        \"dtype\": \"number\",\n        \"std\": 2.907621269182456,\n        \"min\": 0.0,\n        \"max\": 10.0,\n        \"num_unique_values\": 11,\n        \"samples\": [\n          0.0,\n          2.0\n        ],\n        \"semantic_type\": \"\",\n        \"description\": \"\"\n      }\n    }\n  ]\n}"
            }
          },
          "metadata": {},
          "execution_count": 6
        }
      ]
    },
    {
      "cell_type": "markdown",
      "source": [
        "Data Cleaning"
      ],
      "metadata": {
        "id": "LoNM8g9hwZDa"
      }
    },
    {
      "cell_type": "markdown",
      "source": [
        "1.Handling Nulls"
      ],
      "metadata": {
        "id": "zEVrPfMzxaR0"
      }
    },
    {
      "cell_type": "code",
      "source": [
        "print(df.isnull().sum())"
      ],
      "metadata": {
        "colab": {
          "base_uri": "https://localhost:8080/"
        },
        "id": "V5rHm_qzuTyg",
        "outputId": "e61efc2e-9405-49e7-b14a-2c5b547ba74e"
      },
      "execution_count": null,
      "outputs": [
        {
          "output_type": "stream",
          "name": "stdout",
          "text": [
            "Lead ID                     0\n",
            "Store Name                  0\n",
            "Lead Type                   0\n",
            "Lead Date                   0\n",
            "Pre-Booking Date          188\n",
            "Booking Date              188\n",
            "Delivery Date             188\n",
            "Cancellation Status         0\n",
            "Cancellation Reason       729\n",
            "Service Follow-up Date    271\n",
            "TAT Pre-Booking (Days)    188\n",
            "TAT Booking (Days)        188\n",
            "TAT Delivery (Days)       188\n",
            "Customer Rating           271\n",
            "dtype: int64\n"
          ]
        }
      ]
    },
    {
      "cell_type": "code",
      "source": [
        "df['Cancellation Reason'] = df['Cancellation Reason'].fillna('Not Cancelled')"
      ],
      "metadata": {
        "id": "kNzVcTmtutHS"
      },
      "execution_count": null,
      "outputs": []
    },
    {
      "cell_type": "markdown",
      "source": [
        "2.Standardize Date Formats:Convert all date columns to datetime"
      ],
      "metadata": {
        "id": "JW0jYd9awoOf"
      }
    },
    {
      "cell_type": "code",
      "source": [
        "for col in ['Lead Date', 'Pre-Booking Date', 'Booking Date', 'Delivery Date', 'Service Follow-up Date']:\n",
        "    df[col] = pd.to_datetime(df[col], errors='coerce')"
      ],
      "metadata": {
        "id": "76IUt-8RwGhn"
      },
      "execution_count": null,
      "outputs": []
    },
    {
      "cell_type": "markdown",
      "source": [
        "3.Standardize Categorical Values"
      ],
      "metadata": {
        "id": "EcWhc2TSxTVP"
      }
    },
    {
      "cell_type": "code",
      "source": [
        "df['Lead Type'] = df['Lead Type'].str.title().str.strip()"
      ],
      "metadata": {
        "id": "5daTqnkZwzIy"
      },
      "execution_count": null,
      "outputs": []
    },
    {
      "cell_type": "markdown",
      "source": [
        "4.Clean Numeric data's"
      ],
      "metadata": {
        "id": "a1lzHEXOyO10"
      }
    },
    {
      "cell_type": "code",
      "source": [
        "df['TAT Pre-Booking (Days)'] = pd.to_numeric(df['TAT Pre-Booking (Days)'], errors='coerce')\n",
        "df['TAT Booking (Days)'] = pd.to_numeric(df['TAT Booking (Days)'], errors='coerce')\n",
        "df['TAT Delivery (Days)'] = pd.to_numeric(df['TAT Delivery (Days)'], errors='coerce')\n",
        "df['Customer Rating'] = pd.to_numeric(df['Customer Rating'], errors='coerce')\n"
      ],
      "metadata": {
        "id": "7COXcT-JxG6u"
      },
      "execution_count": null,
      "outputs": []
    },
    {
      "cell_type": "markdown",
      "source": [
        "5.Remove Duplicates"
      ],
      "metadata": {
        "id": "FHjze5IoybRL"
      }
    },
    {
      "cell_type": "code",
      "source": [
        "df = df.drop_duplicates(subset=['Lead ID'])"
      ],
      "metadata": {
        "id": "YJQOlFA9yKLj"
      },
      "execution_count": null,
      "outputs": []
    },
    {
      "cell_type": "markdown",
      "source": [
        "Final Checks"
      ],
      "metadata": {
        "id": "2ZHG8qBpymBQ"
      }
    },
    {
      "cell_type": "code",
      "source": [
        "print(df.info())"
      ],
      "metadata": {
        "colab": {
          "base_uri": "https://localhost:8080/"
        },
        "id": "qexBnPDdydWJ",
        "outputId": "b993b470-c7b6-435d-fa0d-cb3cf27c06a5"
      },
      "execution_count": null,
      "outputs": [
        {
          "output_type": "stream",
          "name": "stdout",
          "text": [
            "<class 'pandas.core.frame.DataFrame'>\n",
            "RangeIndex: 1000 entries, 0 to 999\n",
            "Data columns (total 14 columns):\n",
            " #   Column                  Non-Null Count  Dtype         \n",
            "---  ------                  --------------  -----         \n",
            " 0   Lead ID                 1000 non-null   object        \n",
            " 1   Store Name              1000 non-null   object        \n",
            " 2   Lead Type               1000 non-null   object        \n",
            " 3   Lead Date               1000 non-null   datetime64[ns]\n",
            " 4   Pre-Booking Date        812 non-null    datetime64[ns]\n",
            " 5   Booking Date            812 non-null    datetime64[ns]\n",
            " 6   Delivery Date           812 non-null    datetime64[ns]\n",
            " 7   Cancellation Status     1000 non-null   object        \n",
            " 8   Cancellation Reason     1000 non-null   object        \n",
            " 9   Service Follow-up Date  729 non-null    datetime64[ns]\n",
            " 10  TAT Pre-Booking (Days)  812 non-null    float64       \n",
            " 11  TAT Booking (Days)      812 non-null    float64       \n",
            " 12  TAT Delivery (Days)     812 non-null    float64       \n",
            " 13  Customer Rating         729 non-null    float64       \n",
            "dtypes: datetime64[ns](5), float64(4), object(5)\n",
            "memory usage: 109.5+ KB\n",
            "None\n"
          ]
        }
      ]
    },
    {
      "cell_type": "code",
      "source": [
        "print(df.describe(include='all'))"
      ],
      "metadata": {
        "colab": {
          "base_uri": "https://localhost:8080/"
        },
        "id": "C12kbNZ9yu56",
        "outputId": "e8635110-b6a0-44eb-ee5b-3fda670fbae7"
      },
      "execution_count": null,
      "outputs": [
        {
          "output_type": "stream",
          "name": "stdout",
          "text": [
            "       Lead ID     Store Name Lead Type                      Lead Date  \\\n",
            "count     1000           1000      1000                           1000   \n",
            "unique    1000              4         3                            NaN   \n",
            "top      L1999  Bangalore MBC      Warm                            NaN   \n",
            "freq         1            263       509                            NaN   \n",
            "mean       NaN            NaN       NaN  2025-10-16 04:32:09.599999744   \n",
            "min        NaN            NaN       NaN            2025-10-01 00:00:00   \n",
            "25%        NaN            NaN       NaN            2025-10-09 00:00:00   \n",
            "50%        NaN            NaN       NaN            2025-10-16 00:00:00   \n",
            "75%        NaN            NaN       NaN            2025-10-24 00:00:00   \n",
            "max        NaN            NaN       NaN            2025-10-31 00:00:00   \n",
            "std        NaN            NaN       NaN                            NaN   \n",
            "\n",
            "                     Pre-Booking Date                   Booking Date  \\\n",
            "count                             812                            812   \n",
            "unique                            NaN                            NaN   \n",
            "top                               NaN                            NaN   \n",
            "freq                              NaN                            NaN   \n",
            "mean    2025-10-19 04:27:46.995073792  2025-10-22 06:07:05.615763456   \n",
            "min               2025-10-02 00:00:00            2025-10-03 00:00:00   \n",
            "25%               2025-10-11 00:00:00            2025-10-14 00:00:00   \n",
            "50%               2025-10-19 00:00:00            2025-10-22 12:00:00   \n",
            "75%               2025-10-27 00:00:00            2025-10-30 00:00:00   \n",
            "max               2025-11-05 00:00:00            2025-11-10 00:00:00   \n",
            "std                               NaN                            NaN   \n",
            "\n",
            "                        Delivery Date Cancellation Status Cancellation Reason  \\\n",
            "count                             812                1000                1000   \n",
            "unique                            NaN                   2                   6   \n",
            "top                               NaN                  No       Not Cancelled   \n",
            "freq                              NaN                 729                 729   \n",
            "mean    2025-10-26 17:05:01.477832704                 NaN                 NaN   \n",
            "min               2025-10-06 00:00:00                 NaN                 NaN   \n",
            "25%               2025-10-19 00:00:00                 NaN                 NaN   \n",
            "50%               2025-10-27 00:00:00                 NaN                 NaN   \n",
            "75%               2025-11-03 00:00:00                 NaN                 NaN   \n",
            "max               2025-11-17 00:00:00                 NaN                 NaN   \n",
            "std                               NaN                 NaN                 NaN   \n",
            "\n",
            "               Service Follow-up Date  TAT Pre-Booking (Days)  \\\n",
            "count                             729              812.000000   \n",
            "unique                            NaN                     NaN   \n",
            "top                               NaN                     NaN   \n",
            "freq                              NaN                     NaN   \n",
            "mean    2025-11-15 13:37:46.666666752                3.057882   \n",
            "min               2025-10-19 00:00:00                1.000000   \n",
            "25%               2025-11-08 00:00:00                2.000000   \n",
            "50%               2025-11-16 00:00:00                3.000000   \n",
            "75%               2025-11-23 00:00:00                4.000000   \n",
            "max               2025-12-15 00:00:00                5.000000   \n",
            "std                               NaN                1.407344   \n",
            "\n",
            "        TAT Booking (Days)  TAT Delivery (Days)  Customer Rating  \n",
            "count           812.000000           812.000000       729.000000  \n",
            "unique                 NaN                  NaN              NaN  \n",
            "top                    NaN                  NaN              NaN  \n",
            "freq                   NaN                  NaN              NaN  \n",
            "mean              3.068966             4.456897         4.850480  \n",
            "min               1.000000             2.000000         0.000000  \n",
            "25%               2.000000             3.000000         2.000000  \n",
            "50%               3.000000             4.000000         5.000000  \n",
            "75%               4.000000             6.000000         7.000000  \n",
            "max               5.000000             7.000000        10.000000  \n",
            "std               1.402894             1.729376         2.907621  \n"
          ]
        }
      ]
    },
    {
      "cell_type": "code",
      "source": [
        "print(df.isnull().sum())\n"
      ],
      "metadata": {
        "colab": {
          "base_uri": "https://localhost:8080/"
        },
        "id": "8w7x-edny6NU",
        "outputId": "2df17701-25d9-44d6-8f57-abac24d318fd"
      },
      "execution_count": null,
      "outputs": [
        {
          "output_type": "stream",
          "name": "stdout",
          "text": [
            "Lead ID                     0\n",
            "Store Name                  0\n",
            "Lead Type                   0\n",
            "Lead Date                   0\n",
            "Pre-Booking Date          188\n",
            "Booking Date              188\n",
            "Delivery Date             188\n",
            "Cancellation Status         0\n",
            "Cancellation Reason         0\n",
            "Service Follow-up Date    271\n",
            "TAT Pre-Booking (Days)    188\n",
            "TAT Booking (Days)        188\n",
            "TAT Delivery (Days)       188\n",
            "Customer Rating           271\n",
            "dtype: int64\n"
          ]
        }
      ]
    },
    {
      "cell_type": "code",
      "source": [
        "print(df['Lead Type'].value_counts())\n",
        "print(df['Cancellation Status'].value_counts())\n",
        "print(df['Store Name'].value_counts())"
      ],
      "metadata": {
        "colab": {
          "base_uri": "https://localhost:8080/"
        },
        "id": "RsVA8Hzxy_2w",
        "outputId": "58bc37bc-18ef-4359-9282-47f637276f21"
      },
      "execution_count": null,
      "outputs": [
        {
          "output_type": "stream",
          "name": "stdout",
          "text": [
            "Lead Type\n",
            "Warm    509\n",
            "Hot     303\n",
            "Cold    188\n",
            "Name: count, dtype: int64\n",
            "Cancellation Status\n",
            "No     729\n",
            "Yes    271\n",
            "Name: count, dtype: int64\n",
            "Store Name\n",
            "Bangalore MBC    263\n",
            "Delhi MBC        263\n",
            "Mumbai MBC       262\n",
            "Chennai MBC      212\n",
            "Name: count, dtype: int64\n"
          ]
        }
      ]
    },
    {
      "cell_type": "code",
      "source": [
        "print(df.duplicated(subset=['Lead ID']).sum())\n"
      ],
      "metadata": {
        "colab": {
          "base_uri": "https://localhost:8080/"
        },
        "id": "F8BdHuU5zIR9",
        "outputId": "c5c66c00-1246-49b1-e184-b783bdbe4f07"
      },
      "execution_count": null,
      "outputs": [
        {
          "output_type": "stream",
          "name": "stdout",
          "text": [
            "0\n"
          ]
        }
      ]
    },
    {
      "cell_type": "code",
      "source": [
        "print(df['Customer Rating'].describe())\n",
        "print(df['TAT Pre-Booking (Days)'].describe())\n"
      ],
      "metadata": {
        "colab": {
          "base_uri": "https://localhost:8080/"
        },
        "id": "y1ZvLA2vzTd8",
        "outputId": "170dc02f-e1cc-41a2-f39c-13324abf170a"
      },
      "execution_count": null,
      "outputs": [
        {
          "output_type": "stream",
          "name": "stdout",
          "text": [
            "count    729.000000\n",
            "mean       4.850480\n",
            "std        2.907621\n",
            "min        0.000000\n",
            "25%        2.000000\n",
            "50%        5.000000\n",
            "75%        7.000000\n",
            "max       10.000000\n",
            "Name: Customer Rating, dtype: float64\n",
            "count    812.000000\n",
            "mean       3.057882\n",
            "std        1.407344\n",
            "min        1.000000\n",
            "25%        2.000000\n",
            "50%        3.000000\n",
            "75%        4.000000\n",
            "max        5.000000\n",
            "Name: TAT Pre-Booking (Days), dtype: float64\n"
          ]
        }
      ]
    },
    {
      "cell_type": "code",
      "source": [
        "print(df.head())\n",
        "print(df.tail())"
      ],
      "metadata": {
        "colab": {
          "base_uri": "https://localhost:8080/"
        },
        "id": "DcJYDOWYzZ0B",
        "outputId": "bf95bae3-fa45-4976-fc6b-5fc7ccc03887"
      },
      "execution_count": null,
      "outputs": [
        {
          "output_type": "stream",
          "name": "stdout",
          "text": [
            "  Lead ID     Store Name Lead Type  Lead Date Pre-Booking Date Booking Date  \\\n",
            "0   L1000  Bangalore MBC      Warm 2025-10-21       2025-10-25   2025-10-29   \n",
            "1   L1001      Delhi MBC      Warm 2025-10-11       2025-10-14   2025-10-19   \n",
            "2   L1002     Mumbai MBC      Cold 2025-10-01              NaT          NaT   \n",
            "3   L1003  Bangalore MBC      Cold 2025-10-28              NaT          NaT   \n",
            "4   L1004      Delhi MBC      Warm 2025-10-14       2025-10-18   2025-10-21   \n",
            "\n",
            "  Delivery Date Cancellation Status Cancellation Reason  \\\n",
            "0    2025-11-03                  No       Not Cancelled   \n",
            "1    2025-10-26                  No       Not Cancelled   \n",
            "2           NaT                 Yes               Other   \n",
            "3           NaT                 Yes   Model Unavailable   \n",
            "4    2025-10-24                  No       Not Cancelled   \n",
            "\n",
            "  Service Follow-up Date  TAT Pre-Booking (Days)  TAT Booking (Days)  \\\n",
            "0             2025-11-28                     4.0                 4.0   \n",
            "1             2025-11-22                     3.0                 5.0   \n",
            "2                    NaT                     NaN                 NaN   \n",
            "3                    NaT                     NaN                 NaN   \n",
            "4             2025-11-12                     4.0                 3.0   \n",
            "\n",
            "   TAT Delivery (Days)  Customer Rating  \n",
            "0                  5.0              2.0  \n",
            "1                  7.0              8.0  \n",
            "2                  NaN              NaN  \n",
            "3                  NaN              NaN  \n",
            "4                  3.0              8.0  \n",
            "    Lead ID     Store Name Lead Type  Lead Date Pre-Booking Date Booking Date  \\\n",
            "995   L1995    Chennai MBC       Hot 2025-10-07       2025-10-10   2025-10-15   \n",
            "996   L1996     Mumbai MBC       Hot 2025-10-14       2025-10-19   2025-10-23   \n",
            "997   L1997  Bangalore MBC      Warm 2025-10-15       2025-10-20   2025-10-24   \n",
            "998   L1998  Bangalore MBC      Cold 2025-10-29              NaT          NaT   \n",
            "999   L1999     Mumbai MBC      Warm 2025-10-08       2025-10-13   2025-10-15   \n",
            "\n",
            "    Delivery Date Cancellation Status Cancellation Reason  \\\n",
            "995    2025-10-21                  No       Not Cancelled   \n",
            "996    2025-10-26                  No       Not Cancelled   \n",
            "997    2025-10-30                  No       Not Cancelled   \n",
            "998           NaT                 Yes        Changed Mind   \n",
            "999    2025-10-18                  No       Not Cancelled   \n",
            "\n",
            "    Service Follow-up Date  TAT Pre-Booking (Days)  TAT Booking (Days)  \\\n",
            "995             2025-11-18                     3.0                 5.0   \n",
            "996             2025-11-12                     5.0                 4.0   \n",
            "997             2025-11-19                     5.0                 4.0   \n",
            "998                    NaT                     NaN                 NaN   \n",
            "999             2025-11-13                     5.0                 2.0   \n",
            "\n",
            "     TAT Delivery (Days)  Customer Rating  \n",
            "995                  6.0              5.0  \n",
            "996                  3.0              7.0  \n",
            "997                  6.0              3.0  \n",
            "998                  NaN              NaN  \n",
            "999                  3.0              4.0  \n"
          ]
        }
      ]
    },
    {
      "cell_type": "code",
      "source": [
        "for col in df.columns:\n",
        "    print(f\"{col}: {df[col].nunique()} unique values\")"
      ],
      "metadata": {
        "colab": {
          "base_uri": "https://localhost:8080/"
        },
        "id": "2CqzZxclzkHx",
        "outputId": "185e83c1-ae46-414c-872d-64aa08ccf2f5"
      },
      "execution_count": null,
      "outputs": [
        {
          "output_type": "stream",
          "name": "stdout",
          "text": [
            "Lead ID: 1000 unique values\n",
            "Store Name: 4 unique values\n",
            "Lead Type: 3 unique values\n",
            "Lead Date: 31 unique values\n",
            "Pre-Booking Date: 35 unique values\n",
            "Booking Date: 39 unique values\n",
            "Delivery Date: 43 unique values\n",
            "Cancellation Status: 2 unique values\n",
            "Cancellation Reason: 6 unique values\n",
            "Service Follow-up Date: 56 unique values\n",
            "TAT Pre-Booking (Days): 5 unique values\n",
            "TAT Booking (Days): 5 unique values\n",
            "TAT Delivery (Days): 6 unique values\n",
            "Customer Rating: 11 unique values\n"
          ]
        }
      ]
    },
    {
      "cell_type": "markdown",
      "source": [
        "Calculations"
      ],
      "metadata": {
        "id": "bhvLTAel0j7u"
      }
    },
    {
      "cell_type": "markdown",
      "source": [
        "1.Conversion rates"
      ],
      "metadata": {
        "id": "3UjLZhXF0l-P"
      }
    },
    {
      "cell_type": "code",
      "source": [
        "total_leads = len(df)\n",
        "prebooking_leads = df['Pre-Booking Date'].notnull().sum()\n",
        "booking_leads = df['Booking Date'].notnull().sum()\n",
        "delivery_leads = df['Delivery Date'].notnull().sum()\n",
        "conversion_lead_to_prebooking = prebooking_leads / total_leads\n",
        "conversion_prebooking_to_booking = booking_leads / prebooking_leads\n",
        "conversion_booking_to_delivery = delivery_leads / booking_leads\n",
        "print(\"Conversion Rates (Overall):\")\n",
        "print(f\"Lead → Pre-Booking: {conversion_lead_to_prebooking:.2%}\")\n",
        "print(f\"Pre-Booking → Booking: {conversion_prebooking_to_booking:.2%}\")\n",
        "print(f\"Booking → Delivery: {conversion_booking_to_delivery:.2%}\")"
      ],
      "metadata": {
        "colab": {
          "base_uri": "https://localhost:8080/"
        },
        "id": "kqkZK_20zyHG",
        "outputId": "28c1bf6f-d9ef-4f10-c2ce-44f67b6896f9"
      },
      "execution_count": null,
      "outputs": [
        {
          "output_type": "stream",
          "name": "stdout",
          "text": [
            "Conversion Rates (Overall):\n",
            "Lead → Pre-Booking: 81.20%\n",
            "Pre-Booking → Booking: 100.00%\n",
            "Booking → Delivery: 100.00%\n"
          ]
        }
      ]
    },
    {
      "cell_type": "markdown",
      "source": [
        "Store wise conversion rates"
      ],
      "metadata": {
        "id": "LMO1SY1M1ZJ0"
      }
    },
    {
      "cell_type": "code",
      "source": [
        "store_stats = []\n",
        "\n",
        "for store, group in df.groupby('Store Name'):\n",
        "    total = len(group)\n",
        "    prebook = group['Pre-Booking Date'].notnull().sum()\n",
        "    book = group['Booking Date'].notnull().sum()\n",
        "    deliver = group['Delivery Date'].notnull().sum()\n",
        "\n",
        "    stat = {\n",
        "        'Store Name': store,\n",
        "        'Total Leads': total,\n",
        "        'Lead → Pre-Booking (%)': (prebook / total * 100) if total else None,\n",
        "        'Pre-Booking → Booking (%)': (book / prebook * 100) if prebook else None,\n",
        "        'Booking → Delivery (%)': (deliver / book * 100) if book else None\n",
        "    }\n",
        "    store_stats.append(stat)\n",
        "\n",
        "store_df = pd.DataFrame(store_stats)\n",
        "\n",
        "print(\"\\nConversion Rates by Store (%):\")\n",
        "print(store_df[['Store Name', 'Lead → Pre-Booking (%)', 'Pre-Booking → Booking (%)', 'Booking → Delivery (%)']])"
      ],
      "metadata": {
        "colab": {
          "base_uri": "https://localhost:8080/"
        },
        "id": "hxPoBA6B0sA7",
        "outputId": "c9c260cf-a370-4499-b402-e91598179356"
      },
      "execution_count": null,
      "outputs": [
        {
          "output_type": "stream",
          "name": "stdout",
          "text": [
            "\n",
            "Conversion Rates by Store (%):\n",
            "      Store Name  Lead → Pre-Booking (%)  Pre-Booking → Booking (%)  \\\n",
            "0  Bangalore MBC               80.608365                      100.0   \n",
            "1    Chennai MBC               81.603774                      100.0   \n",
            "2      Delhi MBC               80.608365                      100.0   \n",
            "3     Mumbai MBC               82.061069                      100.0   \n",
            "\n",
            "   Booking → Delivery (%)  \n",
            "0                   100.0  \n",
            "1                   100.0  \n",
            "2                   100.0  \n",
            "3                   100.0  \n"
          ]
        }
      ]
    },
    {
      "cell_type": "markdown",
      "source": [
        "2.Average TAT for each stage per store"
      ],
      "metadata": {
        "id": "su02HtkM2Nn5"
      }
    },
    {
      "cell_type": "code",
      "source": [
        "tat_cols = [\n",
        "    'TAT Pre-Booking (Days)',\n",
        "    'TAT Booking (Days)',\n",
        "    'TAT Delivery (Days)'\n",
        "]\n",
        "avg_tat_per_store = df.groupby('Store Name')[tat_cols].mean()\n",
        "print(\"Average TAT for each stage per store:\")\n",
        "print(avg_tat_per_store)"
      ],
      "metadata": {
        "colab": {
          "base_uri": "https://localhost:8080/"
        },
        "id": "XQuimHOn1tVh",
        "outputId": "34c2bdab-48c4-44aa-da3e-c6ad22effb9a"
      },
      "execution_count": null,
      "outputs": [
        {
          "output_type": "stream",
          "name": "stdout",
          "text": [
            "Average TAT for each stage per store:\n",
            "               TAT Pre-Booking (Days)  TAT Booking (Days)  TAT Delivery (Days)\n",
            "Store Name                                                                    \n",
            "Bangalore MBC                3.117925            3.033019             4.514151\n",
            "Chennai MBC                  3.121387            3.202312             4.387283\n",
            "Delhi MBC                    3.028302            3.018868             4.283019\n",
            "Mumbai MBC                   2.976744            3.046512             4.627907\n"
          ]
        }
      ]
    },
    {
      "cell_type": "markdown",
      "source": [
        "3.Cancellation patterns by store and reason"
      ],
      "metadata": {
        "id": "G1HL5xQD28Ka"
      }
    },
    {
      "cell_type": "code",
      "source": [
        "cancelled_leads = df[df['Cancellation Status'] == 'Yes']\n",
        "cancellation_patterns = cancelled_leads.groupby(['Store Name', 'Cancellation Reason']).size().reset_index(name='Count')\n",
        "print(\"Cancellation patterns by store and reason:\")\n",
        "print(cancellation_patterns)"
      ],
      "metadata": {
        "colab": {
          "base_uri": "https://localhost:8080/"
        },
        "id": "Q8HvJZUU2Dmh",
        "outputId": "f809f9d2-f1c8-4b67-a98b-1334a206e5e6"
      },
      "execution_count": null,
      "outputs": [
        {
          "output_type": "stream",
          "name": "stdout",
          "text": [
            "Cancellation patterns by store and reason:\n",
            "       Store Name Cancellation Reason  Count\n",
            "0   Bangalore MBC        Changed Mind     13\n",
            "1   Bangalore MBC     Financing Issue     14\n",
            "2   Bangalore MBC   Model Unavailable     13\n",
            "3   Bangalore MBC               Other     22\n",
            "4   Bangalore MBC               Price     10\n",
            "5     Chennai MBC        Changed Mind     15\n",
            "6     Chennai MBC     Financing Issue     10\n",
            "7     Chennai MBC   Model Unavailable      8\n",
            "8     Chennai MBC               Other      8\n",
            "9     Chennai MBC               Price     18\n",
            "10      Delhi MBC        Changed Mind     14\n",
            "11      Delhi MBC     Financing Issue     21\n",
            "12      Delhi MBC   Model Unavailable     13\n",
            "13      Delhi MBC               Other     13\n",
            "14      Delhi MBC               Price     16\n",
            "15     Mumbai MBC        Changed Mind      9\n",
            "16     Mumbai MBC     Financing Issue     14\n",
            "17     Mumbai MBC   Model Unavailable      9\n",
            "18     Mumbai MBC               Other     14\n",
            "19     Mumbai MBC               Price     17\n"
          ]
        }
      ]
    },
    {
      "cell_type": "markdown",
      "source": [
        "4.Breakdown of Hot/Warm/Cold leads"
      ],
      "metadata": {
        "id": "n36VEmNr3Q7s"
      }
    },
    {
      "cell_type": "code",
      "source": [
        "lead_type_counts = df['Lead Type'].value_counts()\n",
        "lead_type_percent = df['Lead Type'].value_counts(normalize=True) * 100\n",
        "\n",
        "print(\"Overall breakdown of Hot/Warm/Cold leads:\")\n",
        "print(lead_type_counts)\n",
        "print(\"\\nAs percentages:\")\n",
        "print(lead_type_percent)\n",
        "lead_type_by_store = df.groupby('Store Name')['Lead Type'].value_counts().unstack(fill_value=0)\n",
        "lead_type_percent_by_store = df.groupby('Store Name')['Lead Type'].value_counts(normalize=True).unstack(fill_value=0) * 100\n",
        "print(\"\\nBreakdown by store (counts):\")\n",
        "print(lead_type_by_store)\n",
        "print(\"\\nBreakdown by store (percentages):\")\n",
        "print(lead_type_percent_by_store)"
      ],
      "metadata": {
        "colab": {
          "base_uri": "https://localhost:8080/"
        },
        "id": "gueD4Qrw2gQZ",
        "outputId": "3f749436-788f-4439-fbec-f312a68fa2ba"
      },
      "execution_count": null,
      "outputs": [
        {
          "output_type": "stream",
          "name": "stdout",
          "text": [
            "Overall breakdown of Hot/Warm/Cold leads:\n",
            "Lead Type\n",
            "Warm    509\n",
            "Hot     303\n",
            "Cold    188\n",
            "Name: count, dtype: int64\n",
            "\n",
            "As percentages:\n",
            "Lead Type\n",
            "Warm    50.9\n",
            "Hot     30.3\n",
            "Cold    18.8\n",
            "Name: proportion, dtype: float64\n",
            "\n",
            "Breakdown by store (counts):\n",
            "Lead Type      Cold  Hot  Warm\n",
            "Store Name                    \n",
            "Bangalore MBC    51   80   132\n",
            "Chennai MBC      39   70   103\n",
            "Delhi MBC        51   70   142\n",
            "Mumbai MBC       47   83   132\n",
            "\n",
            "Breakdown by store (percentages):\n",
            "Lead Type           Cold        Hot       Warm\n",
            "Store Name                                    \n",
            "Bangalore MBC  19.391635  30.418251  50.190114\n",
            "Chennai MBC    18.396226  33.018868  48.584906\n",
            "Delhi MBC      19.391635  26.615970  53.992395\n",
            "Mumbai MBC     17.938931  31.679389  50.381679\n"
          ]
        }
      ]
    },
    {
      "cell_type": "markdown",
      "source": [
        "5.NPS of each store"
      ],
      "metadata": {
        "id": "hl2NBvQh4xBu"
      }
    },
    {
      "cell_type": "code",
      "source": [
        "min_rating = df['Customer Rating'].min(skipna=True)\n",
        "max_rating = df['Customer Rating'].max(skipna=True)\n",
        "\n",
        "print(f\"Customer Rating Range: {min_rating} to {max_rating}\")"
      ],
      "metadata": {
        "colab": {
          "base_uri": "https://localhost:8080/"
        },
        "id": "ZZv0h0z63JJs",
        "outputId": "d95f152c-9fda-4d79-e265-7ed9f1a21ef8"
      },
      "execution_count": null,
      "outputs": [
        {
          "output_type": "stream",
          "name": "stdout",
          "text": [
            "Customer Rating Range: 0.0 to 10.0\n"
          ]
        }
      ]
    },
    {
      "cell_type": "code",
      "source": [
        "def promoter_detractor_counts(group):\n",
        "    total = group['Customer Rating'].notnull().sum()\n",
        "    promoters = ((group['Customer Rating'] >= 9) & (group['Customer Rating'] <= 10)).sum()\n",
        "    detractors = ((group['Customer Rating'] >= 0) & (group['Customer Rating'] <= 6)).sum()\n",
        "    promoter_pct = (promoters / total * 100) if total > 0 else None\n",
        "    detractor_pct = (detractors / total * 100) if total > 0 else None\n",
        "    nps = promoter_pct - detractor_pct if (promoter_pct is not None and detractor_pct is not None) else None\n",
        "    return pd.Series({\n",
        "        'Promoters': promoters,\n",
        "        'Detractors': detractors,\n",
        "        'Total Ratings': total,\n",
        "        'Promoter %': promoter_pct,\n",
        "        'Detractor %': detractor_pct,\n",
        "        'NPS': nps\n",
        "    })\n",
        "\n",
        "counts = df.groupby('Store Name').apply(promoter_detractor_counts)\n",
        "print(counts)"
      ],
      "metadata": {
        "colab": {
          "base_uri": "https://localhost:8080/"
        },
        "id": "Warrrw8U4OFf",
        "outputId": "7588787e-7f08-499a-86c0-9b63206918d4"
      },
      "execution_count": null,
      "outputs": [
        {
          "output_type": "stream",
          "name": "stdout",
          "text": [
            "               Promoters  Detractors  Total Ratings  Promoter %  Detractor %  \\\n",
            "Store Name                                                                     \n",
            "Bangalore MBC       23.0       134.0          191.0   12.041885    70.157068   \n",
            "Chennai MBC         28.0        99.0          153.0   18.300654    64.705882   \n",
            "Delhi MBC           30.0       123.0          186.0   16.129032    66.129032   \n",
            "Mumbai MBC          23.0       138.0          199.0   11.557789    69.346734   \n",
            "\n",
            "                     NPS  \n",
            "Store Name                \n",
            "Bangalore MBC -58.115183  \n",
            "Chennai MBC   -46.405229  \n",
            "Delhi MBC     -50.000000  \n",
            "Mumbai MBC    -57.788945  \n"
          ]
        },
        {
          "output_type": "stream",
          "name": "stderr",
          "text": [
            "/tmp/ipython-input-2517689290.py:17: DeprecationWarning: DataFrameGroupBy.apply operated on the grouping columns. This behavior is deprecated, and in a future version of pandas the grouping columns will be excluded from the operation. Either pass `include_groups=False` to exclude the groupings or explicitly select the grouping columns after groupby to silence this warning.\n",
            "  counts = df.groupby('Store Name').apply(promoter_detractor_counts)\n"
          ]
        }
      ]
    },
    {
      "cell_type": "markdown",
      "source": [
        "Highlight high-potential leads."
      ],
      "metadata": {
        "id": "PfCKkQrj6CEi"
      }
    },
    {
      "cell_type": "code",
      "source": [
        "high_potential_leads = df[\n",
        "    (df['Lead Type'] == 'Hot') &\n",
        "    (df['Cancellation Status'] == 'No') &\n",
        "    (df['Customer Rating'] >= 9)&\n",
        "    (df['TAT Delivery (Days)'] <= 5)\n",
        "]\n",
        "\n",
        "print(\"High-potential leads:\")\n",
        "print(high_potential_leads)\n",
        "high_potential_leads.to_csv('high_potential_leads.csv', index=False)"
      ],
      "metadata": {
        "colab": {
          "base_uri": "https://localhost:8080/"
        },
        "id": "Lo2NznhB4rAi",
        "outputId": "aa8cefd7-a2de-4477-b07b-6d91a4264f95"
      },
      "execution_count": null,
      "outputs": [
        {
          "output_type": "stream",
          "name": "stdout",
          "text": [
            "High-potential leads:\n",
            "    Lead ID     Store Name Lead Type  Lead Date Pre-Booking Date Booking Date  \\\n",
            "70    L1070  Bangalore MBC       Hot 2025-10-18       2025-10-20   2025-10-24   \n",
            "91    L1091    Chennai MBC       Hot 2025-10-03       2025-10-08   2025-10-13   \n",
            "188   L1188  Bangalore MBC       Hot 2025-10-05       2025-10-09   2025-10-12   \n",
            "196   L1196      Delhi MBC       Hot 2025-10-04       2025-10-08   2025-10-13   \n",
            "209   L1209  Bangalore MBC       Hot 2025-10-30       2025-11-03   2025-11-06   \n",
            "233   L1233     Mumbai MBC       Hot 2025-10-06       2025-10-11   2025-10-13   \n",
            "252   L1252     Mumbai MBC       Hot 2025-10-03       2025-10-07   2025-10-09   \n",
            "275   L1275      Delhi MBC       Hot 2025-10-03       2025-10-04   2025-10-09   \n",
            "298   L1298    Chennai MBC       Hot 2025-10-15       2025-10-20   2025-10-21   \n",
            "325   L1325     Mumbai MBC       Hot 2025-10-25       2025-10-27   2025-10-31   \n",
            "374   L1374    Chennai MBC       Hot 2025-10-22       2025-10-25   2025-10-26   \n",
            "379   L1379      Delhi MBC       Hot 2025-10-02       2025-10-04   2025-10-08   \n",
            "383   L1383  Bangalore MBC       Hot 2025-10-20       2025-10-21   2025-10-23   \n",
            "430   L1430      Delhi MBC       Hot 2025-10-09       2025-10-11   2025-10-15   \n",
            "518   L1518    Chennai MBC       Hot 2025-10-28       2025-11-01   2025-11-06   \n",
            "575   L1575  Bangalore MBC       Hot 2025-10-15       2025-10-19   2025-10-23   \n",
            "579   L1579    Chennai MBC       Hot 2025-10-29       2025-10-30   2025-11-01   \n",
            "632   L1632      Delhi MBC       Hot 2025-10-21       2025-10-22   2025-10-24   \n",
            "673   L1673     Mumbai MBC       Hot 2025-10-25       2025-10-27   2025-10-29   \n",
            "701   L1701  Bangalore MBC       Hot 2025-10-02       2025-10-06   2025-10-09   \n",
            "724   L1724    Chennai MBC       Hot 2025-10-06       2025-10-09   2025-10-12   \n",
            "735   L1735    Chennai MBC       Hot 2025-10-11       2025-10-13   2025-10-15   \n",
            "775   L1775    Chennai MBC       Hot 2025-10-22       2025-10-24   2025-10-29   \n",
            "794   L1794     Mumbai MBC       Hot 2025-10-10       2025-10-15   2025-10-19   \n",
            "832   L1832     Mumbai MBC       Hot 2025-10-31       2025-11-05   2025-11-10   \n",
            "851   L1851     Mumbai MBC       Hot 2025-10-12       2025-10-16   2025-10-18   \n",
            "867   L1867    Chennai MBC       Hot 2025-10-20       2025-10-25   2025-10-28   \n",
            "899   L1899    Chennai MBC       Hot 2025-10-09       2025-10-13   2025-10-15   \n",
            "931   L1931      Delhi MBC       Hot 2025-10-04       2025-10-07   2025-10-08   \n",
            "934   L1934    Chennai MBC       Hot 2025-10-08       2025-10-09   2025-10-14   \n",
            "972   L1972     Mumbai MBC       Hot 2025-10-18       2025-10-19   2025-10-23   \n",
            "\n",
            "    Delivery Date Cancellation Status Cancellation Reason  \\\n",
            "70     2025-10-28                  No       Not Cancelled   \n",
            "91     2025-10-16                  No       Not Cancelled   \n",
            "188    2025-10-16                  No       Not Cancelled   \n",
            "196    2025-10-16                  No       Not Cancelled   \n",
            "209    2025-11-11                  No       Not Cancelled   \n",
            "233    2025-10-17                  No       Not Cancelled   \n",
            "252    2025-10-13                  No       Not Cancelled   \n",
            "275    2025-10-13                  No       Not Cancelled   \n",
            "298    2025-10-23                  No       Not Cancelled   \n",
            "325    2025-11-02                  No       Not Cancelled   \n",
            "374    2025-10-28                  No       Not Cancelled   \n",
            "379    2025-10-10                  No       Not Cancelled   \n",
            "383    2025-10-28                  No       Not Cancelled   \n",
            "430    2025-10-20                  No       Not Cancelled   \n",
            "518    2025-11-11                  No       Not Cancelled   \n",
            "575    2025-10-25                  No       Not Cancelled   \n",
            "579    2025-11-03                  No       Not Cancelled   \n",
            "632    2025-10-26                  No       Not Cancelled   \n",
            "673    2025-11-03                  No       Not Cancelled   \n",
            "701    2025-10-14                  No       Not Cancelled   \n",
            "724    2025-10-15                  No       Not Cancelled   \n",
            "735    2025-10-17                  No       Not Cancelled   \n",
            "775    2025-11-03                  No       Not Cancelled   \n",
            "794    2025-10-24                  No       Not Cancelled   \n",
            "832    2025-11-14                  No       Not Cancelled   \n",
            "851    2025-10-20                  No       Not Cancelled   \n",
            "867    2025-10-30                  No       Not Cancelled   \n",
            "899    2025-10-18                  No       Not Cancelled   \n",
            "931    2025-10-13                  No       Not Cancelled   \n",
            "934    2025-10-19                  No       Not Cancelled   \n",
            "972    2025-10-25                  No       Not Cancelled   \n",
            "\n",
            "    Service Follow-up Date  TAT Pre-Booking (Days)  TAT Booking (Days)  \\\n",
            "70              2025-11-11                     2.0                 4.0   \n",
            "91              2025-11-13                     5.0                 5.0   \n",
            "188             2025-11-08                     4.0                 3.0   \n",
            "196             2025-11-01                     4.0                 5.0   \n",
            "209             2025-11-28                     4.0                 3.0   \n",
            "233             2025-10-29                     5.0                 2.0   \n",
            "252             2025-11-01                     4.0                 2.0   \n",
            "275             2025-11-06                     1.0                 5.0   \n",
            "298             2025-11-15                     5.0                 1.0   \n",
            "325             2025-11-30                     2.0                 4.0   \n",
            "374             2025-11-25                     3.0                 1.0   \n",
            "379             2025-11-07                     2.0                 4.0   \n",
            "383             2025-11-18                     1.0                 2.0   \n",
            "430             2025-11-07                     2.0                 4.0   \n",
            "518             2025-11-22                     4.0                 5.0   \n",
            "575             2025-11-23                     4.0                 4.0   \n",
            "579             2025-11-28                     1.0                 2.0   \n",
            "632             2025-11-21                     1.0                 2.0   \n",
            "673             2025-12-03                     2.0                 2.0   \n",
            "701             2025-11-06                     4.0                 3.0   \n",
            "724             2025-11-09                     3.0                 3.0   \n",
            "735             2025-11-08                     2.0                 2.0   \n",
            "775             2025-11-29                     2.0                 5.0   \n",
            "794             2025-11-10                     5.0                 4.0   \n",
            "832             2025-12-07                     5.0                 5.0   \n",
            "851             2025-11-15                     4.0                 2.0   \n",
            "867             2025-11-12                     5.0                 3.0   \n",
            "899             2025-11-15                     4.0                 2.0   \n",
            "931             2025-11-02                     3.0                 1.0   \n",
            "934             2025-11-12                     1.0                 5.0   \n",
            "972             2025-11-15                     1.0                 4.0   \n",
            "\n",
            "     TAT Delivery (Days)  Customer Rating  \n",
            "70                   4.0             10.0  \n",
            "91                   3.0              9.0  \n",
            "188                  4.0              9.0  \n",
            "196                  3.0             10.0  \n",
            "209                  5.0              9.0  \n",
            "233                  4.0              9.0  \n",
            "252                  4.0             10.0  \n",
            "275                  4.0             10.0  \n",
            "298                  2.0             10.0  \n",
            "325                  2.0             10.0  \n",
            "374                  2.0              9.0  \n",
            "379                  2.0             10.0  \n",
            "383                  5.0              9.0  \n",
            "430                  5.0             10.0  \n",
            "518                  5.0             10.0  \n",
            "575                  2.0             10.0  \n",
            "579                  2.0              9.0  \n",
            "632                  2.0              9.0  \n",
            "673                  5.0             10.0  \n",
            "701                  5.0              9.0  \n",
            "724                  3.0             10.0  \n",
            "735                  2.0              9.0  \n",
            "775                  5.0             10.0  \n",
            "794                  5.0             10.0  \n",
            "832                  4.0              9.0  \n",
            "851                  2.0              9.0  \n",
            "867                  2.0              9.0  \n",
            "899                  3.0              9.0  \n",
            "931                  5.0              9.0  \n",
            "934                  5.0              9.0  \n",
            "972                  2.0             10.0  \n"
          ]
        }
      ]
    },
    {
      "cell_type": "code",
      "source": [
        "df.to_csv('cleaned_electricPe.csv', index=False)"
      ],
      "metadata": {
        "id": "ZbSyIGAH5FIp"
      },
      "execution_count": null,
      "outputs": []
    },
    {
      "cell_type": "code",
      "source": [],
      "metadata": {
        "id": "utMFNCAPBjz0"
      },
      "execution_count": null,
      "outputs": []
    }
  ]
}